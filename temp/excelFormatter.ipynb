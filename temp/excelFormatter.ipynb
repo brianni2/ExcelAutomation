{
 "cells": [
  {
   "cell_type": "code",
   "execution_count": 1,
   "metadata": {},
   "outputs": [],
   "source": [
    "import openpyxl\n",
    "from openpyxl.styles import Font, Alignment, Border, Side, PatternFill"
   ]
  },
  {
   "cell_type": "code",
   "execution_count": 9,
   "metadata": {},
   "outputs": [
    {
     "data": {
      "text/plain": [
       "\"\\n# These are the constructors for the formatting objects\\nFont(name='Calibri', size=11, bold=False, italic=False, vertAlign=None, underline='none', strike=False, color='FF000000')\\n\\nPatternFill(fill_type=None, start_color='FFFFFFFF', end_color='FF000000')\\n\\nBorder(left=Side(border_style=None, color='FF000000'),\\n        right=Side(border_style=None, color='FF000000'),\\n        top=Side(border_style=None, color='FF000000'),\\n        bottom=Side(border_style=None, color='FF000000'),\\n        diagonal=Side(border_style=None, color='FF000000'), diagonal_direction=0,\\n        outline=Side(border_style=None, color='FF000000'),\\n        vertical=Side(border_style=None, color='FF000000'),\\n        horizontal=Side(border_style=None, color='FF000000'))\\n        \\nAlignment(horizontal='general', vertical='bottom', text_rotation=0,\\n        wrap_text=False, shrink_to_fit=False, indent=0)\\n\""
      ]
     },
     "execution_count": 9,
     "metadata": {},
     "output_type": "execute_result"
    }
   ],
   "source": [
    "'''\n",
    "# These are the constructors for the formatting objects\n",
    "Font(name='Calibri', size=11, bold=False, italic=False, vertAlign=None, underline='none', strike=False, color='FF000000')\n",
    "\n",
    "PatternFill(fill_type=None, start_color='FFFFFFFF', end_color='FF000000')\n",
    "\n",
    "Border(left=Side(border_style=None, color='FF000000'),\n",
    "        right=Side(border_style=None, color='FF000000'),\n",
    "        top=Side(border_style=None, color='FF000000'),\n",
    "        bottom=Side(border_style=None, color='FF000000'),\n",
    "        diagonal=Side(border_style=None, color='FF000000'), diagonal_direction=0,\n",
    "        outline=Side(border_style=None, color='FF000000'),\n",
    "        vertical=Side(border_style=None, color='FF000000'),\n",
    "        horizontal=Side(border_style=None, color='FF000000'))\n",
    "        \n",
    "Alignment(horizontal='general', vertical='bottom', text_rotation=0,\n",
    "        wrap_text=False, shrink_to_fit=False, indent=0)\n",
    "'''"
   ]
  },
  {
   "cell_type": "code",
   "execution_count": 2,
   "metadata": {},
   "outputs": [],
   "source": [
    "class ExcelFormatter:\n",
    "    def formatCellAll(ws, cellRange, ft, fl, bd, al):\n",
    "        for row in ws[cellRange]:\n",
    "            for cell in row:\n",
    "                cell.font = ft\n",
    "                cell.fill = fl\n",
    "                cell.border = bd\n",
    "                cell.alignment = al\n",
    "    def formatCellFont(ws, cellRange, ft=Font()):\n",
    "        for row in ws[cellRange]:\n",
    "            for cell in row:\n",
    "                cell.font = ft\n",
    "    def formatCellFill(ws, cellRange, fl=PatternFill()):\n",
    "        for row in ws[cellRange]:\n",
    "            for cell in row:\n",
    "                cell.fill = fl\n",
    "    def formatCellBorder(ws, cellRange, bd=Border()):\n",
    "        for row in ws[cellRange]:\n",
    "            for cell in row:\n",
    "                cell.border = bd\n",
    "    def formatCellAlign(ws, cellRange, al=Alignment()):\n",
    "        for row in ws[cellRange]:\n",
    "            for cell in row:\n",
    "                cell.alignment = al\n",
    "    def setColumnWidth(ws, col, width):\n",
    "        for column in openpyxl.utils.get_column_interval(col[0], col[1]):\n",
    "            ws.column_dimensions[column].width = width\n",
    "    def formatColumnWidth(ws, cellRange):\n",
    "        dim = {}\n",
    "        for row in ws[cellRange]:\n",
    "            for cell in row:\n",
    "                dim[cell.column_letter] = max(dim.get(cell.column_letter, 0), len(str(cell.value)))\n",
    "        for col, value in dim.items():\n",
    "            ws.column_dimensions[col].width = value"
   ]
  }
 ],
 "metadata": {
  "kernelspec": {
   "display_name": "base",
   "language": "python",
   "name": "python3"
  },
  "language_info": {
   "codemirror_mode": {
    "name": "ipython",
    "version": 3
   },
   "file_extension": ".py",
   "mimetype": "text/x-python",
   "name": "python",
   "nbconvert_exporter": "python",
   "pygments_lexer": "ipython3",
   "version": "3.10.9"
  },
  "orig_nbformat": 4
 },
 "nbformat": 4,
 "nbformat_minor": 2
}
