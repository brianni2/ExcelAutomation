{
 "cells": [
  {
   "cell_type": "code",
   "execution_count": 1,
   "id": "c6b3c6fa",
   "metadata": {},
   "outputs": [],
   "source": [
    "import pyodbc\n",
    "import openpyxl\n",
    "from openpyxl.styles import PatternFill, Border, Side, Alignment, Font\n",
    "import pandas as pd\n",
    "import numpy as np\n",
    "from excelFormatter import ExcelFormatter"
   ]
  },
  {
   "cell_type": "code",
   "execution_count": 2,
   "id": "6b48e98c",
   "metadata": {},
   "outputs": [],
   "source": [
    "def getMaxColumnLengths(df):\n",
    "    # Create a numpy array with the max length of each column in a table\n",
    "    measurer = np.vectorize(len)\n",
    "    result = measurer(df.values.astype(str)).max(axis=0)\n",
    "    for i in range(len(result)):\n",
    "        result[i] = max(result[i], len(df.columns[i]))\n",
    "    return result"
   ]
  },
  {
   "cell_type": "code",
   "execution_count": 3,
   "id": "c4580f0b",
   "metadata": {},
   "outputs": [],
   "source": [
    "# server = 'localhost\\sqlexpress' # for a named instance\n",
    "# server = 'myserver,port' # to specify an alternate port\n",
    "driver = \"SQL Server\"\n",
    "server = \"(local)\"\n",
    "database = \"AdventureWorks2022\"\n",
    "\n",
    "conn = pyodbc.connect(f\"Driver={driver};Server={server};Database={database};Trusted_Connection=yes;\")"
   ]
  },
  {
   "cell_type": "code",
   "execution_count": 4,
   "id": "d7224385",
   "metadata": {},
   "outputs": [],
   "source": [
    "script = \"SELECT AddressID, AddressLine1, City, StateProvinceID, PostalCode, ModifiedDate FROM Person.Address\""
   ]
  },
  {
   "cell_type": "code",
   "execution_count": 5,
   "id": "a99d8c1f",
   "metadata": {},
   "outputs": [
    {
     "name": "stderr",
     "output_type": "stream",
     "text": [
      "C:\\Users\\yipyi\\AppData\\Local\\Temp\\ipykernel_11068\\2573804097.py:1: UserWarning: pandas only supports SQLAlchemy connectable (engine/connection) or database string URI or sqlite3 DBAPI2 connection. Other DBAPI2 objects are not tested. Please consider using SQLAlchemy.\n",
      "  df = pd.read_sql_query(script, conn)\n"
     ]
    }
   ],
   "source": [
    "df = pd.read_sql_query(script, conn)\n",
    "#df.astype({'PostalCode': 'int64'}, errors='ignore').dtypes"
   ]
  },
  {
   "cell_type": "code",
   "execution_count": 6,
   "id": "b977cc5a",
   "metadata": {},
   "outputs": [
    {
     "data": {
      "text/plain": [
       "array([ 9, 39, 21, 15, 10, 26])"
      ]
     },
     "execution_count": 6,
     "metadata": {},
     "output_type": "execute_result"
    }
   ],
   "source": [
    "columnLength = getMaxColumnLengths(df)\n",
    "columnLength"
   ]
  },
  {
   "cell_type": "code",
   "execution_count": 7,
   "id": "37fd90dd",
   "metadata": {},
   "outputs": [],
   "source": [
    "excelFile = \"Output.xlsx\"\n",
    "activeSheet = \"Address\"\n",
    "with pd.ExcelWriter(excelFile,\n",
    "                    engine = \"openpyxl\",\n",
    "                    mode = 'w') as writer:\n",
    "    df.to_excel(writer, sheet_name = activeSheet, index = False)"
   ]
  },
  {
   "cell_type": "code",
   "execution_count": 8,
   "id": "26e9060c",
   "metadata": {},
   "outputs": [],
   "source": [
    "wb = openpyxl.load_workbook(excelFile)\n",
    "ws = wb[activeSheet]\n",
    "lastCol = openpyxl.utils.get_column_letter(df.shape[1])\n",
    "lastRow = df.shape[0]+1\n",
    "\n",
    "# Format the data types\n",
    "ExcelFormatter.formatTextNumber(ws, \"E2:E{}\".format(lastRow), \"General\")\n",
    "ExcelFormatter.formatCellType(ws, \"F2:F{}\".format(lastRow), \"MMM-YY\")\n",
    "\n",
    "# Set column widths to fit\n",
    "ExcelFormatter.fitColumnWidth(ws, \"A1:{}{}\".format(lastCol, lastRow))\n",
    "# Format the header row\n",
    "ExcelFormatter.formatCellRange(ws, \"A1:F1\", Font(bold=True), PatternFill(fill_type=\"solid\", start_color=\"FFFFFFFF\"), \n",
    "                             Border(left=Side(border_style=\"thin\", color=\"00000000\"), right=Side(border_style=\"thin\", color=\"00000000\"), \n",
    "                                    top=Side(border_style=\"thin\", color=\"00000000\"), bottom=Side(border_style=\"thin\", color=\"00000000\")), \n",
    "                             Alignment(horizontal=\"center\", vertical=\"top\"))\n",
    "# Format the data rows\n",
    "ExcelFormatter.formatCellRange(ws, \"A2:{}{}\".format(lastCol, lastRow), \n",
    "                             Font(), PatternFill(fill_type=\"solid\", start_color=\"FFFFFFFF\"), \n",
    "                             Border(left=Side(border_style=\"thin\", color=\"00000000\"), right=Side(border_style=\"thin\", color=\"00000000\"), \n",
    "                                    top=Side(border_style=\"thin\", color=\"00000000\"), bottom=Side(border_style=\"thin\", color=\"00000000\")),\n",
    "                             Alignment(horizontal=\"left\", vertical=\"bottom\"))\n",
    "wb.save(\"Output1.xlsx\")"
   ]
  },
  {
   "cell_type": "code",
   "execution_count": 9,
   "id": "f28572f5",
   "metadata": {},
   "outputs": [],
   "source": [
    "# Format the data types\n",
    "ExcelFormatter.formatTextNumber(ws, \"E2:E{}\".format(lastRow), \"General\")\n",
    "ExcelFormatter.formatCellType(ws, \"F2:F{}\".format(lastRow), \"MMM-YY\")\n",
    "\n",
    "# Set column widths\n",
    "for i in range(0, len(columnLength)):\n",
    "    ExcelFormatter.setColumnWidth(ws, openpyxl.utils.get_column_letter(i+1), columnLength[i])\n",
    "# Format the data rows\n",
    "ExcelFormatter.formatAxis(ws, ('A', lastCol), 1,\n",
    "                             Font(), PatternFill(fill_type=\"solid\", start_color=\"FFFFFFFF\"), \n",
    "                             Border(left=Side(border_style=\"thin\", color=\"00000000\"), right=Side(border_style=\"thin\", color=\"00000000\"), \n",
    "                                    top=Side(border_style=\"thin\", color=\"00000000\"), bottom=Side(border_style=\"thin\", color=\"00000000\")),\n",
    "                             Alignment(horizontal=\"left\", vertical=\"bottom\"))\n",
    "# Format the header row\n",
    "ExcelFormatter.formatAxis(ws, (1), 0, Font(bold=True), PatternFill(fill_type=\"solid\", start_color=\"FFFFFFFF\"), \n",
    "                             Border(left=Side(border_style=\"thin\", color=\"00000000\"), right=Side(border_style=\"thin\", color=\"00000000\"), \n",
    "                                    top=Side(border_style=\"thin\", color=\"00000000\"), bottom=Side(border_style=\"thin\", color=\"00000000\")), \n",
    "                             Alignment(horizontal=\"center\", vertical=\"top\"))\n",
    "wb.save(\"Output2.xlsx\")\n",
    "wb.close()"
   ]
  }
 ],
 "metadata": {
  "kernelspec": {
   "display_name": "Python 3 (ipykernel)",
   "language": "python",
   "name": "python3"
  },
  "language_info": {
   "codemirror_mode": {
    "name": "ipython",
    "version": 3
   },
   "file_extension": ".py",
   "mimetype": "text/x-python",
   "name": "python",
   "nbconvert_exporter": "python",
   "pygments_lexer": "ipython3",
   "version": "3.10.9"
  }
 },
 "nbformat": 4,
 "nbformat_minor": 5
}
